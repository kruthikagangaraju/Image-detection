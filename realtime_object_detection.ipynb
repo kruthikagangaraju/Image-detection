{
  "nbformat": 4,
  "nbformat_minor": 0,
  "metadata": {
    "colab": {
      "provenance": [],
      "authorship_tag": "ABX9TyPxceavZjW/Z1R6syyTfkVm",
      "include_colab_link": true
    },
    "kernelspec": {
      "name": "python3",
      "display_name": "Python 3"
    },
    "language_info": {
      "name": "python"
    }
  },
  "cells": [
    {
      "cell_type": "markdown",
      "metadata": {
        "id": "view-in-github",
        "colab_type": "text"
      },
      "source": [
        "<a href=\"https://colab.research.google.com/github/kruthikagangaraju/Image-detection/blob/main/realtime_object_detection.ipynb\" target=\"_parent\"><img src=\"https://colab.research.google.com/assets/colab-badge.svg\" alt=\"Open In Colab\"/></a>"
      ]
    },
    {
      "cell_type": "code",
      "execution_count": 3,
      "metadata": {
        "colab": {
          "base_uri": "https://localhost:8080/"
        },
        "id": "WSjno8hDA8rM",
        "outputId": "c2f4a1d0-c53e-4048-932b-d54292073e8b"
      },
      "outputs": [
        {
          "output_type": "stream",
          "name": "stdout",
          "text": [
            "Requirement already satisfied: opencv-contrib-python in /usr/local/lib/python3.10/dist-packages (4.8.0.76)\n",
            "Requirement already satisfied: numpy>=1.21.2 in /usr/local/lib/python3.10/dist-packages (from opencv-contrib-python) (1.25.2)\n"
          ]
        }
      ],
      "source": [
        "!pip install opencv-contrib-python\n",
        "!pip install cvlib\n",
        "!pip install gtts playsound\n",
        "!pip3 install PyObjC\n"
      ]
    },
    {
      "cell_type": "code",
      "source": [
        "import cv2\n",
        "import cvlib as cv\n",
        "from cvlib.object_detection import draw_bbox\n",
        "from gtts import gTTS\n",
        "from playsound import playsound"
      ],
      "metadata": {
        "id": "fXvTeIMM9AwY"
      },
      "execution_count": null,
      "outputs": []
    },
    {
      "cell_type": "code",
      "source": [
        "def speech(text):\n",
        "  print(text)\n",
        "  language = 'en'\n",
        "  output = gTTS(text=text, lang=language, slow=False)\n",
        "  output.save(\"output.mp3\")\n",
        "  playsound(\"output.mp3\")"
      ],
      "metadata": {
        "id": "fDwORka4_hu8"
      },
      "execution_count": null,
      "outputs": []
    },
    {
      "cell_type": "code",
      "source": [
        "video = cv2.VideoCapture(0)\n",
        "labels = []\n",
        "\n",
        "while True:\n",
        "    ret, frame = video.read()\n",
        "    bbox, label, conf = cv.detect_common_objects(frame)\n",
        "    output_image = draw_bbox(frame, bbox, label, conf)\n",
        "\n",
        "    cv2.imshow('Object Detection', output_image)\n",
        "\n",
        "    for item in label:\n",
        "        if item in labels:\n",
        "          pass\n",
        "        else:\n",
        "          labels.append(item)\n",
        "    if cv2.waitKey(1) & 0xFF == ord('q'):\n",
        "        break\n"
      ],
      "metadata": {
        "id": "3o65CRhB9Miu"
      },
      "execution_count": null,
      "outputs": []
    },
    {
      "cell_type": "code",
      "source": [
        "print(labels)"
      ],
      "metadata": {
        "id": "ipmcDrkR-k7F"
      },
      "execution_count": null,
      "outputs": []
    },
    {
      "cell_type": "code",
      "source": [
        "i = 0\n",
        "new_sentence = []\n",
        "for label in labels:\n",
        "  if i == 0:\n",
        "    new_sentence.append(f\"I found a {label}, and, \")\n",
        "  else:\n",
        "    new_sentence.append(f\" a {label}\")\n",
        "  i += 1"
      ],
      "metadata": {
        "id": "Js7iY1hyBBp4"
      },
      "execution_count": null,
      "outputs": []
    },
    {
      "cell_type": "code",
      "source": [
        "print(\" \".join(new_sentence))\n",
        "speech(\" \".join(new_sentence))"
      ],
      "metadata": {
        "id": "B0QZKTHW_Nie"
      },
      "execution_count": null,
      "outputs": []
    }
  ]
}